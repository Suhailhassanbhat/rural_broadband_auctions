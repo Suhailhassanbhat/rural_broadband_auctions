{
 "cells": [
  {
   "cell_type": "code",
   "execution_count": 1,
   "metadata": {},
   "outputs": [],
   "source": [
    "import pandas as pd"
   ]
  },
  {
   "cell_type": "code",
   "execution_count": 2,
   "metadata": {},
   "outputs": [],
   "source": [
    "df=pd.read_csv(\"vaccinaton_in_ohio_valley_colleges.csv\")"
   ]
  },
  {
   "cell_type": "code",
   "execution_count": 5,
   "metadata": {},
   "outputs": [
    {
     "data": {
      "text/plain": [
       "City\n",
       "Wickliffe            54\n",
       "Jackson              72\n",
       "Yellow Springs       95\n",
       "Pineville           123\n",
       "Mount Hope          227\n",
       "                  ...  \n",
       "Cleveland         30987\n",
       "Louisville        34239\n",
       "Bowling Green     35904\n",
       "Cincinnati        49094\n",
       "Columbus          65176\n",
       "Name: total_enrollment_fall_2019, Length: 91, dtype: int64"
      ]
     },
     "execution_count": 5,
     "metadata": {},
     "output_type": "execute_result"
    }
   ],
   "source": [
    "df.groupby('City').total_enrollment_fall_2019.sum().sort_values()"
   ]
  },
  {
   "cell_type": "code",
   "execution_count": 8,
   "metadata": {
    "scrolled": true
   },
   "outputs": [
    {
     "data": {
      "text/plain": [
       "Louisville       6\n",
       "Cincinnati       6\n",
       "Cleveland        6\n",
       "Columbus         5\n",
       "Bowling Green    2\n",
       "                ..\n",
       "Huntington       1\n",
       "Hiram            1\n",
       "Grayson          1\n",
       "Springfield      1\n",
       "Rio Grande       1\n",
       "Name: City, Length: 91, dtype: int64"
      ]
     },
     "execution_count": 8,
     "metadata": {},
     "output_type": "execute_result"
    }
   ],
   "source": [
    "df.City.value_counts()"
   ]
  },
  {
   "cell_type": "code",
   "execution_count": 13,
   "metadata": {},
   "outputs": [
    {
     "data": {
      "text/plain": [
       "Zip    City         \n",
       "42101  Bowling Green    18171\n",
       "43606  Toledo           19694\n",
       "45056  Oxford           19716\n",
       "40208  Louisville       21670\n",
       "26506  Morgantown       26839\n",
       "45701  Athens           27367\n",
       "44242  Kent             27716\n",
       "40503  Lexington        29402\n",
       "45221  Cincinnati       39263\n",
       "43210  Columbus         61391\n",
       "Name: total_enrollment_fall_2019, dtype: int64"
      ]
     },
     "execution_count": 13,
     "metadata": {},
     "output_type": "execute_result"
    }
   ],
   "source": [
    "df.groupby(['Zip', 'City']).total_enrollment_fall_2019.sum().sort_values().tail(10)"
   ]
  },
  {
   "cell_type": "code",
   "execution_count": null,
   "metadata": {},
   "outputs": [],
   "source": []
  }
 ],
 "metadata": {
  "kernelspec": {
   "display_name": "Python 3",
   "language": "python",
   "name": "python3"
  },
  "language_info": {
   "codemirror_mode": {
    "name": "ipython",
    "version": 3
   },
   "file_extension": ".py",
   "mimetype": "text/x-python",
   "name": "python",
   "nbconvert_exporter": "python",
   "pygments_lexer": "ipython3",
   "version": "3.8.5"
  }
 },
 "nbformat": 4,
 "nbformat_minor": 4
}
